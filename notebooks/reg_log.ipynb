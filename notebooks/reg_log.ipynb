{
 "cells": [
  {
   "cell_type": "markdown",
   "metadata": {},
   "source": [
    "# Regresión logística"
   ]
  },
  {
   "cell_type": "markdown",
   "metadata": {},
   "source": [
    "## Análisis de los 4 factores del éxito del baloncesto"
   ]
  },
  {
   "cell_type": "markdown",
   "metadata": {},
   "source": [
    "### Estudio de los partidos del Obradoiro CAB"
   ]
  },
  {
   "cell_type": "code",
   "execution_count": 1,
   "metadata": {},
   "outputs": [],
   "source": [
    "# importamos libreria pandas y train_test_split\n",
    "import pandas as pd\n",
    "from sklearn.model_selection import train_test_split"
   ]
  },
  {
   "cell_type": "code",
   "execution_count": 2,
   "metadata": {},
   "outputs": [
    {
     "data": {
      "text/html": [
       "<div>\n",
       "<style scoped>\n",
       "    .dataframe tbody tr th:only-of-type {\n",
       "        vertical-align: middle;\n",
       "    }\n",
       "\n",
       "    .dataframe tbody tr th {\n",
       "        vertical-align: top;\n",
       "    }\n",
       "\n",
       "    .dataframe thead th {\n",
       "        text-align: right;\n",
       "    }\n",
       "</style>\n",
       "<table border=\"1\" class=\"dataframe\">\n",
       "  <thead>\n",
       "    <tr style=\"text-align: right;\">\n",
       "      <th></th>\n",
       "      <th>eFG%</th>\n",
       "      <th>TO%</th>\n",
       "      <th>OR%</th>\n",
       "      <th>FTR</th>\n",
       "      <th>eFG%op</th>\n",
       "      <th>TO%op</th>\n",
       "      <th>OR%op</th>\n",
       "      <th>FTRop</th>\n",
       "      <th>¿Win?</th>\n",
       "    </tr>\n",
       "  </thead>\n",
       "  <tbody>\n",
       "    <tr>\n",
       "      <th>0</th>\n",
       "      <td>0.582</td>\n",
       "      <td>0.144</td>\n",
       "      <td>0.241</td>\n",
       "      <td>0.164</td>\n",
       "      <td>0.390</td>\n",
       "      <td>0.158</td>\n",
       "      <td>0.176</td>\n",
       "      <td>0.254</td>\n",
       "      <td>1</td>\n",
       "    </tr>\n",
       "    <tr>\n",
       "      <th>1</th>\n",
       "      <td>0.571</td>\n",
       "      <td>0.118</td>\n",
       "      <td>0.320</td>\n",
       "      <td>0.446</td>\n",
       "      <td>0.551</td>\n",
       "      <td>0.176</td>\n",
       "      <td>0.250</td>\n",
       "      <td>0.254</td>\n",
       "      <td>1</td>\n",
       "    </tr>\n",
       "    <tr>\n",
       "      <th>2</th>\n",
       "      <td>0.669</td>\n",
       "      <td>0.168</td>\n",
       "      <td>0.500</td>\n",
       "      <td>0.262</td>\n",
       "      <td>0.500</td>\n",
       "      <td>0.196</td>\n",
       "      <td>0.194</td>\n",
       "      <td>0.203</td>\n",
       "      <td>1</td>\n",
       "    </tr>\n",
       "    <tr>\n",
       "      <th>3</th>\n",
       "      <td>0.658</td>\n",
       "      <td>0.285</td>\n",
       "      <td>0.217</td>\n",
       "      <td>0.211</td>\n",
       "      <td>0.409</td>\n",
       "      <td>0.149</td>\n",
       "      <td>0.195</td>\n",
       "      <td>0.333</td>\n",
       "      <td>1</td>\n",
       "    </tr>\n",
       "    <tr>\n",
       "      <th>4</th>\n",
       "      <td>0.649</td>\n",
       "      <td>0.117</td>\n",
       "      <td>0.154</td>\n",
       "      <td>0.228</td>\n",
       "      <td>0.531</td>\n",
       "      <td>0.131</td>\n",
       "      <td>0.229</td>\n",
       "      <td>0.141</td>\n",
       "      <td>1</td>\n",
       "    </tr>\n",
       "  </tbody>\n",
       "</table>\n",
       "</div>"
      ],
      "text/plain": [
       "    eFG%    TO%    OR%    FTR  eFG%op  TO%op  OR%op  FTRop  ¿Win?\n",
       "0  0.582  0.144  0.241  0.164   0.390  0.158  0.176  0.254      1\n",
       "1  0.571  0.118  0.320  0.446   0.551  0.176  0.250  0.254      1\n",
       "2  0.669  0.168  0.500  0.262   0.500  0.196  0.194  0.203      1\n",
       "3  0.658  0.285  0.217  0.211   0.409  0.149  0.195  0.333      1\n",
       "4  0.649  0.117  0.154  0.228   0.531  0.131  0.229  0.141      1"
      ]
     },
     "execution_count": 2,
     "metadata": {},
     "output_type": "execute_result"
    }
   ],
   "source": [
    "# cargamos los datos del archivo 4factors3.csv y comprobamos que cargaron correctamente\n",
    "data=pd.read_csv('4factors3.csv')\n",
    "data.head()"
   ]
  },
  {
   "cell_type": "markdown",
   "metadata": {},
   "source": [
    "Analizamos los datos: tenemos 9 columnas, las 4 primeras hacen referencia al Obradoiro y las 4 siguientes al oponente. Por último la columna ¿Win? es 1 si ganó el Obradoiro y 0 si perdió."
   ]
  },
  {
   "cell_type": "code",
   "execution_count": 9,
   "metadata": {},
   "outputs": [
    {
     "data": {
      "text/plain": [
       "(20, 9)"
      ]
     },
     "execution_count": 9,
     "metadata": {},
     "output_type": "execute_result"
    }
   ],
   "source": [
    "# tamaño de la muestra\n",
    "data.shape"
   ]
  },
  {
   "cell_type": "markdown",
   "metadata": {},
   "source": [
    "Tenemos 20 filas y 9 columnas"
   ]
  },
  {
   "cell_type": "code",
   "execution_count": 10,
   "metadata": {},
   "outputs": [
    {
     "data": {
      "text/html": [
       "<div>\n",
       "<style scoped>\n",
       "    .dataframe tbody tr th:only-of-type {\n",
       "        vertical-align: middle;\n",
       "    }\n",
       "\n",
       "    .dataframe tbody tr th {\n",
       "        vertical-align: top;\n",
       "    }\n",
       "\n",
       "    .dataframe thead th {\n",
       "        text-align: right;\n",
       "    }\n",
       "</style>\n",
       "<table border=\"1\" class=\"dataframe\">\n",
       "  <thead>\n",
       "    <tr style=\"text-align: right;\">\n",
       "      <th></th>\n",
       "      <th>eFG%</th>\n",
       "      <th>TO%</th>\n",
       "      <th>OR%</th>\n",
       "      <th>FTR</th>\n",
       "      <th>eFG%op</th>\n",
       "      <th>TO%op</th>\n",
       "      <th>OR%op</th>\n",
       "      <th>FTRop</th>\n",
       "      <th>¿Win?</th>\n",
       "    </tr>\n",
       "  </thead>\n",
       "  <tbody>\n",
       "    <tr>\n",
       "      <th>count</th>\n",
       "      <td>20.000000</td>\n",
       "      <td>20.000000</td>\n",
       "      <td>20.000000</td>\n",
       "      <td>20.000000</td>\n",
       "      <td>20.000000</td>\n",
       "      <td>20.000000</td>\n",
       "      <td>20.000000</td>\n",
       "      <td>20.000000</td>\n",
       "      <td>20.00000</td>\n",
       "    </tr>\n",
       "    <tr>\n",
       "      <th>mean</th>\n",
       "      <td>0.560800</td>\n",
       "      <td>0.166150</td>\n",
       "      <td>0.300750</td>\n",
       "      <td>0.224550</td>\n",
       "      <td>0.542500</td>\n",
       "      <td>0.160350</td>\n",
       "      <td>0.273650</td>\n",
       "      <td>0.230750</td>\n",
       "      <td>0.65000</td>\n",
       "    </tr>\n",
       "    <tr>\n",
       "      <th>std</th>\n",
       "      <td>0.072754</td>\n",
       "      <td>0.047595</td>\n",
       "      <td>0.100205</td>\n",
       "      <td>0.089183</td>\n",
       "      <td>0.092759</td>\n",
       "      <td>0.038717</td>\n",
       "      <td>0.084191</td>\n",
       "      <td>0.099788</td>\n",
       "      <td>0.48936</td>\n",
       "    </tr>\n",
       "    <tr>\n",
       "      <th>min</th>\n",
       "      <td>0.358000</td>\n",
       "      <td>0.074000</td>\n",
       "      <td>0.154000</td>\n",
       "      <td>0.070000</td>\n",
       "      <td>0.390000</td>\n",
       "      <td>0.109000</td>\n",
       "      <td>0.133000</td>\n",
       "      <td>0.031000</td>\n",
       "      <td>0.00000</td>\n",
       "    </tr>\n",
       "    <tr>\n",
       "      <th>25%</th>\n",
       "      <td>0.522750</td>\n",
       "      <td>0.139250</td>\n",
       "      <td>0.209000</td>\n",
       "      <td>0.158750</td>\n",
       "      <td>0.472000</td>\n",
       "      <td>0.135500</td>\n",
       "      <td>0.215250</td>\n",
       "      <td>0.178250</td>\n",
       "      <td>0.00000</td>\n",
       "    </tr>\n",
       "    <tr>\n",
       "      <th>50%</th>\n",
       "      <td>0.571000</td>\n",
       "      <td>0.159500</td>\n",
       "      <td>0.322000</td>\n",
       "      <td>0.233500</td>\n",
       "      <td>0.527000</td>\n",
       "      <td>0.150000</td>\n",
       "      <td>0.254500</td>\n",
       "      <td>0.205000</td>\n",
       "      <td>1.00000</td>\n",
       "    </tr>\n",
       "    <tr>\n",
       "      <th>75%</th>\n",
       "      <td>0.595500</td>\n",
       "      <td>0.194000</td>\n",
       "      <td>0.357000</td>\n",
       "      <td>0.266750</td>\n",
       "      <td>0.616250</td>\n",
       "      <td>0.178500</td>\n",
       "      <td>0.333000</td>\n",
       "      <td>0.270750</td>\n",
       "      <td>1.00000</td>\n",
       "    </tr>\n",
       "    <tr>\n",
       "      <th>max</th>\n",
       "      <td>0.669000</td>\n",
       "      <td>0.285000</td>\n",
       "      <td>0.500000</td>\n",
       "      <td>0.446000</td>\n",
       "      <td>0.711000</td>\n",
       "      <td>0.266000</td>\n",
       "      <td>0.444000</td>\n",
       "      <td>0.492000</td>\n",
       "      <td>1.00000</td>\n",
       "    </tr>\n",
       "  </tbody>\n",
       "</table>\n",
       "</div>"
      ],
      "text/plain": [
       "            eFG%        TO%        OR%        FTR     eFG%op      TO%op  \\\n",
       "count  20.000000  20.000000  20.000000  20.000000  20.000000  20.000000   \n",
       "mean    0.560800   0.166150   0.300750   0.224550   0.542500   0.160350   \n",
       "std     0.072754   0.047595   0.100205   0.089183   0.092759   0.038717   \n",
       "min     0.358000   0.074000   0.154000   0.070000   0.390000   0.109000   \n",
       "25%     0.522750   0.139250   0.209000   0.158750   0.472000   0.135500   \n",
       "50%     0.571000   0.159500   0.322000   0.233500   0.527000   0.150000   \n",
       "75%     0.595500   0.194000   0.357000   0.266750   0.616250   0.178500   \n",
       "max     0.669000   0.285000   0.500000   0.446000   0.711000   0.266000   \n",
       "\n",
       "           OR%op      FTRop     ¿Win?  \n",
       "count  20.000000  20.000000  20.00000  \n",
       "mean    0.273650   0.230750   0.65000  \n",
       "std     0.084191   0.099788   0.48936  \n",
       "min     0.133000   0.031000   0.00000  \n",
       "25%     0.215250   0.178250   0.00000  \n",
       "50%     0.254500   0.205000   1.00000  \n",
       "75%     0.333000   0.270750   1.00000  \n",
       "max     0.444000   0.492000   1.00000  "
      ]
     },
     "execution_count": 10,
     "metadata": {},
     "output_type": "execute_result"
    }
   ],
   "source": [
    "# descripción de los datos\n",
    "data.describe()"
   ]
  },
  {
   "cell_type": "markdown",
   "metadata": {},
   "source": [
    "Nos devuelve el valor medio, desviación, mínimo, máximo y los percentiles 25%,50% y 75%"
   ]
  },
  {
   "cell_type": "code",
   "execution_count": 15,
   "metadata": {},
   "outputs": [
    {
     "data": {
      "text/html": [
       "<div>\n",
       "<style scoped>\n",
       "    .dataframe tbody tr th:only-of-type {\n",
       "        vertical-align: middle;\n",
       "    }\n",
       "\n",
       "    .dataframe tbody tr th {\n",
       "        vertical-align: top;\n",
       "    }\n",
       "\n",
       "    .dataframe thead th {\n",
       "        text-align: right;\n",
       "    }\n",
       "</style>\n",
       "<table border=\"1\" class=\"dataframe\">\n",
       "  <thead>\n",
       "    <tr style=\"text-align: right;\">\n",
       "      <th></th>\n",
       "      <th>eFG%</th>\n",
       "      <th>TO%</th>\n",
       "      <th>OR%</th>\n",
       "      <th>FTR</th>\n",
       "      <th>eFG%op</th>\n",
       "      <th>TO%op</th>\n",
       "      <th>OR%op</th>\n",
       "      <th>FTRop</th>\n",
       "    </tr>\n",
       "    <tr>\n",
       "      <th>¿Win?</th>\n",
       "      <th></th>\n",
       "      <th></th>\n",
       "      <th></th>\n",
       "      <th></th>\n",
       "      <th></th>\n",
       "      <th></th>\n",
       "      <th></th>\n",
       "      <th></th>\n",
       "    </tr>\n",
       "  </thead>\n",
       "  <tbody>\n",
       "    <tr>\n",
       "      <th>0</th>\n",
       "      <td>0.504714</td>\n",
       "      <td>0.176714</td>\n",
       "      <td>0.256429</td>\n",
       "      <td>0.207</td>\n",
       "      <td>0.608143</td>\n",
       "      <td>0.145857</td>\n",
       "      <td>0.286714</td>\n",
       "      <td>0.235286</td>\n",
       "    </tr>\n",
       "    <tr>\n",
       "      <th>1</th>\n",
       "      <td>0.591000</td>\n",
       "      <td>0.160462</td>\n",
       "      <td>0.324615</td>\n",
       "      <td>0.234</td>\n",
       "      <td>0.507154</td>\n",
       "      <td>0.168154</td>\n",
       "      <td>0.266615</td>\n",
       "      <td>0.228308</td>\n",
       "    </tr>\n",
       "  </tbody>\n",
       "</table>\n",
       "</div>"
      ],
      "text/plain": [
       "           eFG%       TO%       OR%    FTR    eFG%op     TO%op     OR%op  \\\n",
       "¿Win?                                                                      \n",
       "0      0.504714  0.176714  0.256429  0.207  0.608143  0.145857  0.286714   \n",
       "1      0.591000  0.160462  0.324615  0.234  0.507154  0.168154  0.266615   \n",
       "\n",
       "          FTRop  \n",
       "¿Win?            \n",
       "0      0.235286  \n",
       "1      0.228308  "
      ]
     },
     "execution_count": 15,
     "metadata": {},
     "output_type": "execute_result"
    }
   ],
   "source": [
    "# medias en las victorias vs derrotas\n",
    "data.groupby(['¿Win?']).mean()"
   ]
  },
  {
   "cell_type": "markdown",
   "metadata": {},
   "source": [
    "Podemos ver como para las victorias tenemos que tener casi 0.60 en eFG% y que pesa más el rebote ofensivo que los balones perdidos y el factor del tiro libre."
   ]
  },
  {
   "cell_type": "markdown",
   "metadata": {},
   "source": [
    "### Los 4 factores"
   ]
  },
  {
   "cell_type": "markdown",
   "metadata": {},
   "source": [
    "eFG%: factor de tiro<br>\n",
    "TO%: balones perdidos<br>\n",
    "OR%: rebote ofensivo<br>\n",
    "FTR: factor de tiro libre<br>\n",
    "https://basketanalisis.com/2017/10/22/los-four-factors-en-la-liga-endesa/"
   ]
  },
  {
   "cell_type": "markdown",
   "metadata": {},
   "source": [
    "Estos 4 factores se basan en lo que Dean Oliver llamó \"los 4 factores de éxito en el baloncesto\". Según Oliver, el tiro es el factor más importante, seguido de las pérdidas de balón, los rebotes ofensivos y los tiros libres. Estos factores se pueden aplicar tanto a la ofensiva como a la defensa de un equipo, lo que en cierto sentido nos da ocho factores.\n",
    "En este análisis calcularemos el peso de los 8 factores, tanto los ofensivos como los defensivos."
   ]
  },
  {
   "cell_type": "markdown",
   "metadata": {},
   "source": [
    "Oliver colocó un cierto conjunto de pesos en cada una de las cuatro categorías para determinar el valor de cada factor con respecto a una victoria. Los pesos son:<br>\n",
    "\n",
    "    40% en Porcentaje de tiro\n",
    "    25% en pérdidas de balón\n",
    "    20% en rebotes\n",
    "    15% en la tasa de tiro libre\n",
    "\n",
    "La pregunta es si estas tasas realmente capturan las tendencias ganadoras de un equipo ACB en la temporada anterior.\n",
    "\n",
    "El modelo que haremos servir para aproximar los pesos de cada factor es la regresión lineal, donde se aproximan los pesos de cada coeficiente para calcular el número total de victorias por esta temporada.\n",
    "\n",
    "WINS = X1.eFG% + X2.TOR + X3.ORR + X4.FRT + X5.eFG%opp + X6.TORopp + X7.ORRopp + X8.FRTopp"
   ]
  },
  {
   "cell_type": "markdown",
   "metadata": {},
   "source": [
    "Tenemos que calcular X1,... X8 que son los coeficientes para nuestro modelo:"
   ]
  },
  {
   "cell_type": "code",
   "execution_count": 4,
   "metadata": {},
   "outputs": [],
   "source": [
    "# cargamos los datos de entrada (X) y la posible salida (Y)\n",
    "X=data[['eFG%','TO%','OR%','FTR','eFG%op','TO%op','OR%op','FTRop']]\n",
    "Y=data['¿Win?']"
   ]
  },
  {
   "cell_type": "code",
   "execution_count": 70,
   "metadata": {},
   "outputs": [],
   "source": [
    "# separamos los datos de entrenamiento (train) y los de test (test)\n",
    "x_train,x_test,y_train,y_test=train_test_split(X,Y,test_size=0.3, random_state=0)"
   ]
  },
  {
   "cell_type": "code",
   "execution_count": 71,
   "metadata": {},
   "outputs": [
    {
     "data": {
      "text/plain": [
       "(14, 8)"
      ]
     },
     "execution_count": 71,
     "metadata": {},
     "output_type": "execute_result"
    }
   ],
   "source": [
    "#comprobamos que se cargaron correctamente y vemos el reparto\n",
    "x_train.shape"
   ]
  },
  {
   "cell_type": "code",
   "execution_count": 72,
   "metadata": {},
   "outputs": [
    {
     "data": {
      "text/plain": [
       "(6, 8)"
      ]
     },
     "execution_count": 72,
     "metadata": {},
     "output_type": "execute_result"
    }
   ],
   "source": [
    "x_test.shape"
   ]
  },
  {
   "cell_type": "markdown",
   "metadata": {},
   "source": [
    "De los 20 registros, vamos a ussar 14 para hacer el modelo (entrenamiento) y 6 para comprobar la calidad de nuestro modelo (test)"
   ]
  },
  {
   "cell_type": "code",
   "execution_count": 27,
   "metadata": {},
   "outputs": [],
   "source": [
    "# importamos las librerias para hacer la regresión\n",
    "from sklearn.linear_model import LogisticRegression"
   ]
  },
  {
   "cell_type": "code",
   "execution_count": 73,
   "metadata": {},
   "outputs": [],
   "source": [
    "# creamos modelo con sklearn\n",
    "clf = LogisticRegression(random_state=0, solver='lbfgs',multi_class='multinomial').fit(x_train,y_train)"
   ]
  },
  {
   "cell_type": "markdown",
   "metadata": {},
   "source": [
    "Mostramos los coeficientes de nuestro modelo"
   ]
  },
  {
   "cell_type": "code",
   "execution_count": 74,
   "metadata": {},
   "outputs": [
    {
     "data": {
      "text/plain": [
       "array([[ 0.26764878, -0.04320605,  0.32458249, -0.0005823 , -0.38534135,\n",
       "         0.08117206,  0.02506671, -0.02655273]])"
      ]
     },
     "execution_count": 74,
     "metadata": {},
     "output_type": "execute_result"
    }
   ],
   "source": [
    "clf.coef_"
   ]
  },
  {
   "cell_type": "markdown",
   "metadata": {},
   "source": [
    "### Cáculo del error"
   ]
  },
  {
   "cell_type": "markdown",
   "metadata": {},
   "source": [
    "Para calcular el error cometido usaremos los datos guardados para test. Primero descargamos la librería metrics:"
   ]
  },
  {
   "cell_type": "code",
   "execution_count": 32,
   "metadata": {},
   "outputs": [],
   "source": [
    "from sklearn import metrics"
   ]
  },
  {
   "cell_type": "code",
   "execution_count": 75,
   "metadata": {},
   "outputs": [],
   "source": [
    "# calculamos la salida con nuestro modelo\n",
    "y_pred=clf.predict(x_test)"
   ]
  },
  {
   "cell_type": "markdown",
   "metadata": {},
   "source": [
    "Probabilidad de acertar:"
   ]
  },
  {
   "cell_type": "code",
   "execution_count": 76,
   "metadata": {},
   "outputs": [
    {
     "data": {
      "text/plain": [
       "0.6666666666666666"
      ]
     },
     "execution_count": 76,
     "metadata": {},
     "output_type": "execute_result"
    }
   ],
   "source": [
    "metrics.accuracy_score(y_test,y_pred)"
   ]
  },
  {
   "cell_type": "markdown",
   "metadata": {},
   "source": [
    "Mostramos el valor real (y_test) y la predicción de nuestro modelo (y_pred)"
   ]
  },
  {
   "cell_type": "code",
   "execution_count": 77,
   "metadata": {},
   "outputs": [
    {
     "data": {
      "text/plain": [
       "('realidad:', [0, 1, 1, 0, 1, 1], 'predicción:', [1, 1, 1, 1, 1, 1])"
      ]
     },
     "execution_count": 77,
     "metadata": {},
     "output_type": "execute_result"
    }
   ],
   "source": [
    "'realidad:',list(y_test),'predicción:',list(y_pred)"
   ]
  },
  {
   "cell_type": "markdown",
   "metadata": {},
   "source": [
    "Hacemos una <b>validación cruzada</b> para mejorar la predicción"
   ]
  },
  {
   "cell_type": "code",
   "execution_count": 44,
   "metadata": {},
   "outputs": [],
   "source": [
    "# libreria cross_validate\n",
    "from sklearn.model_selection import cross_val_score"
   ]
  },
  {
   "cell_type": "code",
   "execution_count": 86,
   "metadata": {},
   "outputs": [
    {
     "data": {
      "text/plain": [
       "array([0.625     , 0.66666667, 0.66666667])"
      ]
     },
     "execution_count": 86,
     "metadata": {},
     "output_type": "execute_result"
    }
   ],
   "source": [
    "#validacion cruzada\n",
    "scores = cross_val_score(clf, X, Y, cv=3)\n",
    "scores"
   ]
  },
  {
   "cell_type": "code",
   "execution_count": 87,
   "metadata": {},
   "outputs": [
    {
     "data": {
      "text/plain": [
       "0.6527777777777777"
      ]
     },
     "execution_count": 87,
     "metadata": {},
     "output_type": "execute_result"
    }
   ],
   "source": [
    "scores.mean()"
   ]
  },
  {
   "cell_type": "markdown",
   "metadata": {},
   "source": [
    "Errores de hacer 3 validaciones y error medio"
   ]
  },
  {
   "cell_type": "markdown",
   "metadata": {},
   "source": [
    "### Conclusiones"
   ]
  },
  {
   "cell_type": "markdown",
   "metadata": {},
   "source": [
    "Si vemos los coeficientes tenemos:\n",
    "eFG%: factor de tiro: 0.26764878 --> 23,2%<br>\n",
    "TO%: balones perdidos: -0.04320605 --> 3,7%<br>\n",
    "OR%: rebote ofensivo: 0.32458249 --> 28,1%<br>\n",
    "FTR: factor de tiro libre: -0.0005823 --> 0,1%<br>\n",
    "eFG%op: factor de tiro oponente: -0.38534135 --> 33,4%<br>\n",
    "TO%op: balones perdidos oponente: 0.08117206 --> 7,0%<br>\n",
    "OR%op: rebote ofensivo oponente: 0.02506671 --> 2,2%<br>\n",
    "FTRop: factor de tiro libre oponente: -0.02655273 --> 2,3%\n"
   ]
  },
  {
   "cell_type": "markdown",
   "metadata": {},
   "source": [
    "Se puede observar que el mayor peso para conseguir la victoria es tener un buen rebote ofensivo y un buen factor de tiro.Afecta más a la victoria los balores perdidos por el oponente que los propios.<br>\n",
    "(porcentaje calculado con la suma de los valores absolutos)"
   ]
  },
  {
   "cell_type": "code",
   "execution_count": null,
   "metadata": {},
   "outputs": [],
   "source": []
  }
 ],
 "metadata": {
  "kernelspec": {
   "display_name": "Python 3",
   "language": "python",
   "name": "python3"
  },
  "language_info": {
   "codemirror_mode": {
    "name": "ipython",
    "version": 3
   },
   "file_extension": ".py",
   "mimetype": "text/x-python",
   "name": "python",
   "nbconvert_exporter": "python",
   "pygments_lexer": "ipython3",
   "version": "3.6.8"
  }
 },
 "nbformat": 4,
 "nbformat_minor": 2
}
