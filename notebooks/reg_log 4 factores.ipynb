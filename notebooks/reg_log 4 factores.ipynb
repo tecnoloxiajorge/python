{
 "cells": [
  {
   "cell_type": "markdown",
   "metadata": {},
   "source": [
    "# Regresión logística"
   ]
  },
  {
   "cell_type": "markdown",
   "metadata": {},
   "source": [
    "## Análisis de los 4 factores del éxito del baloncesto"
   ]
  },
  {
   "cell_type": "markdown",
   "metadata": {},
   "source": [
    "### Estudio de los partidos de la ACB"
   ]
  },
  {
   "cell_type": "code",
   "execution_count": null,
   "metadata": {},
   "outputs": [],
   "source": [
    "# importamos libreria pandas y train_test_split\n",
    "import pandas as pd\n",
    "from sklearn.model_selection import train_test_split"
   ]
  },
  {
   "cell_type": "code",
   "execution_count": 6,
   "metadata": {},
   "outputs": [
    {
     "data": {
      "text/html": [
       "<div>\n",
       "<style scoped>\n",
       "    .dataframe tbody tr th:only-of-type {\n",
       "        vertical-align: middle;\n",
       "    }\n",
       "\n",
       "    .dataframe tbody tr th {\n",
       "        vertical-align: top;\n",
       "    }\n",
       "\n",
       "    .dataframe thead th {\n",
       "        text-align: right;\n",
       "    }\n",
       "</style>\n",
       "<table border=\"1\" class=\"dataframe\">\n",
       "  <thead>\n",
       "    <tr style=\"text-align: right;\">\n",
       "      <th></th>\n",
       "      <th>eFG%</th>\n",
       "      <th>TO%</th>\n",
       "      <th>OR%</th>\n",
       "      <th>FTR</th>\n",
       "      <th>¿Win?</th>\n",
       "    </tr>\n",
       "  </thead>\n",
       "  <tbody>\n",
       "    <tr>\n",
       "      <th>0</th>\n",
       "      <td>0.582</td>\n",
       "      <td>0.144</td>\n",
       "      <td>0.241</td>\n",
       "      <td>0.164</td>\n",
       "      <td>1</td>\n",
       "    </tr>\n",
       "    <tr>\n",
       "      <th>1</th>\n",
       "      <td>0.390</td>\n",
       "      <td>0.158</td>\n",
       "      <td>0.176</td>\n",
       "      <td>0.254</td>\n",
       "      <td>0</td>\n",
       "    </tr>\n",
       "    <tr>\n",
       "      <th>2</th>\n",
       "      <td>0.571</td>\n",
       "      <td>0.118</td>\n",
       "      <td>0.320</td>\n",
       "      <td>0.446</td>\n",
       "      <td>1</td>\n",
       "    </tr>\n",
       "    <tr>\n",
       "      <th>3</th>\n",
       "      <td>0.551</td>\n",
       "      <td>0.176</td>\n",
       "      <td>0.250</td>\n",
       "      <td>0.254</td>\n",
       "      <td>0</td>\n",
       "    </tr>\n",
       "    <tr>\n",
       "      <th>4</th>\n",
       "      <td>0.669</td>\n",
       "      <td>0.168</td>\n",
       "      <td>0.500</td>\n",
       "      <td>0.262</td>\n",
       "      <td>1</td>\n",
       "    </tr>\n",
       "  </tbody>\n",
       "</table>\n",
       "</div>"
      ],
      "text/plain": [
       "    eFG%    TO%    OR%    FTR  ¿Win?\n",
       "0  0.582  0.144  0.241  0.164      1\n",
       "1  0.390  0.158  0.176  0.254      0\n",
       "2  0.571  0.118  0.320  0.446      1\n",
       "3  0.551  0.176  0.250  0.254      0\n",
       "4  0.669  0.168  0.500  0.262      1"
      ]
     },
     "execution_count": 6,
     "metadata": {},
     "output_type": "execute_result"
    }
   ],
   "source": [
    "# cargamos los datos del archivo 4factors3.csv y comprobamos que cargaron correctamente\n",
    "data=pd.read_csv('4factors.csv')\n",
    "data.head()"
   ]
  },
  {
   "cell_type": "markdown",
   "metadata": {},
   "source": [
    "Analizamos los datos: tenemos 4 columnas, la columna ¿Win? es 1 si ganó el Obradoiro y 0 si perdió."
   ]
  },
  {
   "cell_type": "code",
   "execution_count": 7,
   "metadata": {},
   "outputs": [
    {
     "data": {
      "text/plain": [
       "(40, 5)"
      ]
     },
     "execution_count": 7,
     "metadata": {},
     "output_type": "execute_result"
    }
   ],
   "source": [
    "# tamaño de la muestra\n",
    "data.shape"
   ]
  },
  {
   "cell_type": "markdown",
   "metadata": {},
   "source": [
    "Tenemos 40 filas y 5 columnas"
   ]
  },
  {
   "cell_type": "code",
   "execution_count": 8,
   "metadata": {},
   "outputs": [
    {
     "data": {
      "text/html": [
       "<div>\n",
       "<style scoped>\n",
       "    .dataframe tbody tr th:only-of-type {\n",
       "        vertical-align: middle;\n",
       "    }\n",
       "\n",
       "    .dataframe tbody tr th {\n",
       "        vertical-align: top;\n",
       "    }\n",
       "\n",
       "    .dataframe thead th {\n",
       "        text-align: right;\n",
       "    }\n",
       "</style>\n",
       "<table border=\"1\" class=\"dataframe\">\n",
       "  <thead>\n",
       "    <tr style=\"text-align: right;\">\n",
       "      <th></th>\n",
       "      <th>eFG%</th>\n",
       "      <th>TO%</th>\n",
       "      <th>OR%</th>\n",
       "      <th>FTR</th>\n",
       "      <th>¿Win?</th>\n",
       "    </tr>\n",
       "  </thead>\n",
       "  <tbody>\n",
       "    <tr>\n",
       "      <th>count</th>\n",
       "      <td>40.000000</td>\n",
       "      <td>40.000000</td>\n",
       "      <td>40.000000</td>\n",
       "      <td>40.000000</td>\n",
       "      <td>40.00000</td>\n",
       "    </tr>\n",
       "    <tr>\n",
       "      <th>mean</th>\n",
       "      <td>0.551650</td>\n",
       "      <td>0.163250</td>\n",
       "      <td>0.287200</td>\n",
       "      <td>0.227650</td>\n",
       "      <td>0.50000</td>\n",
       "    </tr>\n",
       "    <tr>\n",
       "      <th>std</th>\n",
       "      <td>0.082803</td>\n",
       "      <td>0.042924</td>\n",
       "      <td>0.092376</td>\n",
       "      <td>0.093466</td>\n",
       "      <td>0.50637</td>\n",
       "    </tr>\n",
       "    <tr>\n",
       "      <th>min</th>\n",
       "      <td>0.358000</td>\n",
       "      <td>0.074000</td>\n",
       "      <td>0.133000</td>\n",
       "      <td>0.031000</td>\n",
       "      <td>0.00000</td>\n",
       "    </tr>\n",
       "    <tr>\n",
       "      <th>25%</th>\n",
       "      <td>0.516000</td>\n",
       "      <td>0.137000</td>\n",
       "      <td>0.211500</td>\n",
       "      <td>0.166250</td>\n",
       "      <td>0.00000</td>\n",
       "    </tr>\n",
       "    <tr>\n",
       "      <th>50%</th>\n",
       "      <td>0.549000</td>\n",
       "      <td>0.153500</td>\n",
       "      <td>0.285500</td>\n",
       "      <td>0.216000</td>\n",
       "      <td>0.50000</td>\n",
       "    </tr>\n",
       "    <tr>\n",
       "      <th>75%</th>\n",
       "      <td>0.608000</td>\n",
       "      <td>0.185250</td>\n",
       "      <td>0.353500</td>\n",
       "      <td>0.266750</td>\n",
       "      <td>1.00000</td>\n",
       "    </tr>\n",
       "    <tr>\n",
       "      <th>max</th>\n",
       "      <td>0.711000</td>\n",
       "      <td>0.285000</td>\n",
       "      <td>0.500000</td>\n",
       "      <td>0.492000</td>\n",
       "      <td>1.00000</td>\n",
       "    </tr>\n",
       "  </tbody>\n",
       "</table>\n",
       "</div>"
      ],
      "text/plain": [
       "            eFG%        TO%        OR%        FTR     ¿Win?\n",
       "count  40.000000  40.000000  40.000000  40.000000  40.00000\n",
       "mean    0.551650   0.163250   0.287200   0.227650   0.50000\n",
       "std     0.082803   0.042924   0.092376   0.093466   0.50637\n",
       "min     0.358000   0.074000   0.133000   0.031000   0.00000\n",
       "25%     0.516000   0.137000   0.211500   0.166250   0.00000\n",
       "50%     0.549000   0.153500   0.285500   0.216000   0.50000\n",
       "75%     0.608000   0.185250   0.353500   0.266750   1.00000\n",
       "max     0.711000   0.285000   0.500000   0.492000   1.00000"
      ]
     },
     "execution_count": 8,
     "metadata": {},
     "output_type": "execute_result"
    }
   ],
   "source": [
    "# descripción de los datos\n",
    "data.describe()"
   ]
  },
  {
   "cell_type": "markdown",
   "metadata": {},
   "source": [
    "Nos devuelve el valor medio, desviación, mínimo, máximo y los percentiles 25%,50% y 75%"
   ]
  },
  {
   "cell_type": "code",
   "execution_count": 9,
   "metadata": {},
   "outputs": [
    {
     "data": {
      "text/html": [
       "<div>\n",
       "<style scoped>\n",
       "    .dataframe tbody tr th:only-of-type {\n",
       "        vertical-align: middle;\n",
       "    }\n",
       "\n",
       "    .dataframe tbody tr th {\n",
       "        vertical-align: top;\n",
       "    }\n",
       "\n",
       "    .dataframe thead th {\n",
       "        text-align: right;\n",
       "    }\n",
       "</style>\n",
       "<table border=\"1\" class=\"dataframe\">\n",
       "  <thead>\n",
       "    <tr style=\"text-align: right;\">\n",
       "      <th></th>\n",
       "      <th>eFG%</th>\n",
       "      <th>TO%</th>\n",
       "      <th>OR%</th>\n",
       "      <th>FTR</th>\n",
       "    </tr>\n",
       "    <tr>\n",
       "      <th>¿Win?</th>\n",
       "      <th></th>\n",
       "      <th></th>\n",
       "      <th></th>\n",
       "      <th></th>\n",
       "    </tr>\n",
       "  </thead>\n",
       "  <tbody>\n",
       "    <tr>\n",
       "      <th>0</th>\n",
       "      <td>0.5063</td>\n",
       "      <td>0.17115</td>\n",
       "      <td>0.26305</td>\n",
       "      <td>0.22085</td>\n",
       "    </tr>\n",
       "    <tr>\n",
       "      <th>1</th>\n",
       "      <td>0.5970</td>\n",
       "      <td>0.15535</td>\n",
       "      <td>0.31135</td>\n",
       "      <td>0.23445</td>\n",
       "    </tr>\n",
       "  </tbody>\n",
       "</table>\n",
       "</div>"
      ],
      "text/plain": [
       "         eFG%      TO%      OR%      FTR\n",
       "¿Win?                                   \n",
       "0      0.5063  0.17115  0.26305  0.22085\n",
       "1      0.5970  0.15535  0.31135  0.23445"
      ]
     },
     "execution_count": 9,
     "metadata": {},
     "output_type": "execute_result"
    }
   ],
   "source": [
    "# medias en las victorias vs derrotas\n",
    "data.groupby(['¿Win?']).mean()"
   ]
  },
  {
   "cell_type": "markdown",
   "metadata": {},
   "source": [
    "Podemos ver como para las victorias tenemos que tener casi 0.60 en eFG% y que pesa más el rebote ofensivo que los balones perdidos y el factor del tiro libre."
   ]
  },
  {
   "cell_type": "markdown",
   "metadata": {},
   "source": [
    "### Los 4 factores"
   ]
  },
  {
   "cell_type": "markdown",
   "metadata": {},
   "source": [
    "eFG%: factor de tiro<br>\n",
    "TO%: balones perdidos<br>\n",
    "OR%: rebote ofensivo<br>\n",
    "FTR: factor de tiro libre<br>\n",
    "https://basketanalisis.com/2017/10/22/los-four-factors-en-la-liga-endesa/"
   ]
  },
  {
   "cell_type": "markdown",
   "metadata": {},
   "source": [
    "Estos 4 factores se basan en lo que Dean Oliver llamó \"los 4 factores de éxito en el baloncesto\". Según Oliver, el tiro es el factor más importante, seguido de las pérdidas de balón, los rebotes ofensivos y los tiros libres."
   ]
  },
  {
   "cell_type": "markdown",
   "metadata": {},
   "source": [
    "Oliver colocó un cierto conjunto de pesos en cada una de las cuatro categorías para determinar el valor de cada factor con respecto a una victoria. Los pesos son:<br>\n",
    "\n",
    "    40% en Porcentaje de tiro\n",
    "    25% en pérdidas de balón\n",
    "    20% en rebotes\n",
    "    15% en la tasa de tiro libre\n",
    "\n",
    "La pregunta es si estas tasas realmente capturan las tendencias ganadoras de un equipo ACB en la temporada anterior.\n",
    "\n",
    "El modelo que haremos servir para aproximar los pesos de cada factor es la regresión lineal, donde se aproximan los pesos de cada coeficiente para calcular el número total de victorias por esta temporada.\n",
    "\n",
    "WINS = X1.eFG% + X2.TOR + X3.ORR + X4.FRT"
   ]
  },
  {
   "cell_type": "markdown",
   "metadata": {},
   "source": [
    "Tenemos que calcular X1,... X4 que son los coeficientes para nuestro modelo:"
   ]
  },
  {
   "cell_type": "code",
   "execution_count": 14,
   "metadata": {},
   "outputs": [],
   "source": [
    "# cargamos los datos de entrada (X) y la posible salida (Y)\n",
    "X=data[['eFG%','TO%','OR%','FTR']]\n",
    "Y=data['¿Win?']"
   ]
  },
  {
   "cell_type": "code",
   "execution_count": 12,
   "metadata": {},
   "outputs": [],
   "source": [
    "# separamos los datos de entrenamiento (train) y los de test (test)\n",
    "x_train,x_test,y_train,y_test=train_test_split(X,Y,test_size=0.3, random_state=0)"
   ]
  },
  {
   "cell_type": "code",
   "execution_count": 13,
   "metadata": {},
   "outputs": [
    {
     "data": {
      "text/plain": [
       "(28, 4)"
      ]
     },
     "execution_count": 13,
     "metadata": {},
     "output_type": "execute_result"
    }
   ],
   "source": [
    "#comprobamos que se cargaron correctamente y vemos el reparto\n",
    "x_train.shape"
   ]
  },
  {
   "cell_type": "code",
   "execution_count": 15,
   "metadata": {},
   "outputs": [
    {
     "data": {
      "text/plain": [
       "(12, 4)"
      ]
     },
     "execution_count": 15,
     "metadata": {},
     "output_type": "execute_result"
    }
   ],
   "source": [
    "x_test.shape"
   ]
  },
  {
   "cell_type": "markdown",
   "metadata": {},
   "source": [
    "#### De los 40 registros, vamos a ussar 28 para hacer el modelo (entrenamiento) y 12 para comprobar la calidad de nuestro modelo (test)"
   ]
  },
  {
   "cell_type": "code",
   "execution_count": 16,
   "metadata": {},
   "outputs": [],
   "source": [
    "# importamos las librerias para hacer la regresión\n",
    "from sklearn.linear_model import LogisticRegression"
   ]
  },
  {
   "cell_type": "code",
   "execution_count": 17,
   "metadata": {},
   "outputs": [],
   "source": [
    "# creamos modelo con sklearn\n",
    "clf = LogisticRegression(random_state=0, solver='lbfgs',multi_class='multinomial').fit(x_train,y_train)"
   ]
  },
  {
   "cell_type": "markdown",
   "metadata": {},
   "source": [
    "Mostramos los coeficientes de nuestro modelo"
   ]
  },
  {
   "cell_type": "code",
   "execution_count": 18,
   "metadata": {},
   "outputs": [
    {
     "data": {
      "text/plain": [
       "array([[ 0.54466314, -0.04367179,  0.35322277,  0.15844379]])"
      ]
     },
     "execution_count": 18,
     "metadata": {},
     "output_type": "execute_result"
    }
   ],
   "source": [
    "clf.coef_"
   ]
  },
  {
   "cell_type": "markdown",
   "metadata": {},
   "source": [
    "### Cáculo del error"
   ]
  },
  {
   "cell_type": "markdown",
   "metadata": {},
   "source": [
    "Para calcular el error cometido usaremos los datos guardados para test. Primero descargamos la librería metrics:"
   ]
  },
  {
   "cell_type": "code",
   "execution_count": 21,
   "metadata": {},
   "outputs": [],
   "source": [
    "from sklearn import metrics"
   ]
  },
  {
   "cell_type": "code",
   "execution_count": 22,
   "metadata": {},
   "outputs": [],
   "source": [
    "# calculamos la salida con nuestro modelo\n",
    "y_pred=clf.predict(x_test)"
   ]
  },
  {
   "cell_type": "markdown",
   "metadata": {},
   "source": [
    "Probabilidad de acertar:"
   ]
  },
  {
   "cell_type": "code",
   "execution_count": 23,
   "metadata": {},
   "outputs": [
    {
     "data": {
      "text/plain": [
       "0.6666666666666666"
      ]
     },
     "execution_count": 23,
     "metadata": {},
     "output_type": "execute_result"
    }
   ],
   "source": [
    "metrics.accuracy_score(y_test,y_pred)"
   ]
  },
  {
   "cell_type": "markdown",
   "metadata": {},
   "source": [
    "Mostramos el valor real (y_test) y la predicción de nuestro modelo (y_pred)"
   ]
  },
  {
   "cell_type": "code",
   "execution_count": 24,
   "metadata": {},
   "outputs": [
    {
     "data": {
      "text/plain": [
       "('realidad:',\n",
       " [0, 1, 0, 1, 0, 1, 0, 1, 1, 1, 0, 0],\n",
       " 'predicción:',\n",
       " [1, 1, 1, 1, 0, 1, 0, 1, 1, 0, 1, 0])"
      ]
     },
     "execution_count": 24,
     "metadata": {},
     "output_type": "execute_result"
    }
   ],
   "source": [
    "'realidad:',list(y_test),'predicción:',list(y_pred)"
   ]
  },
  {
   "cell_type": "markdown",
   "metadata": {},
   "source": [
    "Hacemos una <b>validación cruzada</b> para mejorar la predicción"
   ]
  },
  {
   "cell_type": "code",
   "execution_count": 25,
   "metadata": {},
   "outputs": [],
   "source": [
    "# libreria cross_validate\n",
    "from sklearn.model_selection import cross_val_score"
   ]
  },
  {
   "cell_type": "code",
   "execution_count": 26,
   "metadata": {},
   "outputs": [
    {
     "data": {
      "text/plain": [
       "array([1.        , 0.64285714, 0.58333333])"
      ]
     },
     "execution_count": 26,
     "metadata": {},
     "output_type": "execute_result"
    }
   ],
   "source": [
    "#validacion cruzada\n",
    "scores = cross_val_score(clf, X, Y, cv=3)\n",
    "scores"
   ]
  },
  {
   "cell_type": "code",
   "execution_count": 27,
   "metadata": {},
   "outputs": [
    {
     "data": {
      "text/plain": [
       "0.7420634920634921"
      ]
     },
     "execution_count": 27,
     "metadata": {},
     "output_type": "execute_result"
    }
   ],
   "source": [
    "scores.mean()"
   ]
  },
  {
   "cell_type": "markdown",
   "metadata": {},
   "source": [
    "Errores de hacer 3 validaciones y error medio"
   ]
  },
  {
   "cell_type": "markdown",
   "metadata": {},
   "source": [
    "### Conclusiones"
   ]
  },
  {
   "cell_type": "markdown",
   "metadata": {},
   "source": [
    "Si vemos los coeficientes tenemos:\n",
    "eFG%: factor de tiro: 0.54466314 --> 49,5%<br>\n",
    "TO%: balones perdidos: -0.04367179 --> 4,0%<br>\n",
    "OR%: rebote ofensivo: 0.35322277 --> 32,1%<br>\n",
    "FTR: factor de tiro libre: 0.15844379 --> 14,4%\n"
   ]
  },
  {
   "cell_type": "markdown",
   "metadata": {},
   "source": [
    "Estos son los de Dean Oliver:<br>\n",
    "40% en Porcentaje de tiro<br>\n",
    "    25% en pérdidas de balón<br>\n",
    "    20% en rebotes<br>\n",
    "    15% en la tasa de tiro libre"
   ]
  },
  {
   "cell_type": "code",
   "execution_count": null,
   "metadata": {},
   "outputs": [],
   "source": []
  }
 ],
 "metadata": {
  "kernelspec": {
   "display_name": "Python 3",
   "language": "python",
   "name": "python3"
  },
  "language_info": {
   "codemirror_mode": {
    "name": "ipython",
    "version": 3
   },
   "file_extension": ".py",
   "mimetype": "text/x-python",
   "name": "python",
   "nbconvert_exporter": "python",
   "pygments_lexer": "ipython3",
   "version": "3.6.8"
  }
 },
 "nbformat": 4,
 "nbformat_minor": 2
}
